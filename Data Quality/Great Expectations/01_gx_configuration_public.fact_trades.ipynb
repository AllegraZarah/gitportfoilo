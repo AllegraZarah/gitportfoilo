{
 "cells": [
  {
   "cell_type": "markdown",
   "id": "0a8e788c-be21-406c-8bdc-f98526a36ce9",
   "metadata": {},
   "source": [
    "# **Validating Data with Great Expectations**"
   ]
  },
  {
   "cell_type": "markdown",
   "id": "7ba0d508-06bd-4390-ac63-d9b2ae40d5e0",
   "metadata": {},
   "source": [
    "## **Install & Set up Great Expectations**"
   ]
  },
  {
   "cell_type": "raw",
   "id": "d7f94c9c-8a2b-45ca-8b80-067e6c8776e3",
   "metadata": {},
   "source": [
    "# Install required Libraries\n",
    "\n",
    "!pip install great_expectations\n",
    "!pip install python-dotenv\n",
    "!pip install sqlalchemy\n",
    "!pip install psycopg2\n",
    "!pip install ydata-profiling"
   ]
  },
  {
   "cell_type": "code",
   "execution_count": null,
   "id": "d5104ce5-73fe-4902-9d52-929d197809c9",
   "metadata": {},
   "outputs": [],
   "source": [
    "# Set up the environment with the required libraries\n",
    "\n",
    "import great_expectations as gx\n",
    "\n",
    "import sys\n",
    "import os\n",
    "import pandas as pd\n",
    "import numpy as np\n",
    "\n",
    "from sqlalchemy import create_engine\n",
    "from sqlalchemy import text\n",
    "\n",
    "from datetime import datetime\n",
    "from dotenv import load_dotenv"
   ]
  },
  {
   "cell_type": "code",
   "execution_count": null,
   "id": "79da679a-768c-461f-b983-6b4a297cc608",
   "metadata": {},
   "outputs": [],
   "source": [
    "# Load libraries that require loading\n",
    "\n",
    "load_dotenv()"
   ]
  },
  {
   "cell_type": "code",
   "execution_count": null,
   "id": "d8f80af6-fca3-434a-ae2b-1a6501ac3773",
   "metadata": {
    "scrolled": true
   },
   "outputs": [],
   "source": [
    "# Retrieve Data Context\n",
    "\n",
    "path_to_context_root_dir = 'C:/Users/xxx/Documents/Projects/xxx/great_expectations'\n",
    "\n",
    "fact_trades_context = gx.get_context(context_root_dir = path_to_context_root_dir)\n",
    "\n",
    "fact_trades_context"
   ]
  },
  {
   "cell_type": "code",
   "execution_count": null,
   "id": "660f7070-e853-4523-aee0-761f54d1de68",
   "metadata": {},
   "outputs": [],
   "source": [
    "# Connect to DataSource\n",
    "pg_datasource_add = os.getenv(\"POSTGRES_ADDRESS\")\n",
    "pg_datasource_db = os.getenv(\"DATABASE\")\n",
    "pg_datasource_name = os.getenv(\"POSTGRES_USERNAME\")\n",
    "pg_datasource_pw = os.getenv(\"POSTGRES_PASSWORD\")\n",
    "\n",
    "postgresql_connection_string = f\"postgresql+psycopg2://{pg_datasource_name}:{pg_datasource_pw}@{pg_datasource_add}/{pg_datasource_db}\""
   ]
  },
  {
   "cell_type": "markdown",
   "id": "a372ac45-78d2-4ba1-97d8-19e7326ac6cd",
   "metadata": {},
   "source": [
    "#### **DataAsset From SQL Source**"
   ]
  },
  {
   "cell_type": "code",
   "execution_count": null,
   "id": "527d568d-8de5-48a9-9983-01c3164216ae",
   "metadata": {},
   "outputs": [],
   "source": [
    "#create a connection_string to enable secure connection to the PostgreSQL instance\n",
    "postgresql_connection_string\n",
    "\n",
    "#instantiate a Datasource which is a representation of the data available in the PostgreSQL database\n",
    "pg_datasource = fact_trades_context.sources.add_or_update_postgres(name = \"datateam_datasource\",\n",
    "                                                       connection_string = postgresql_connection_string)\n",
    "pg_datasource"
   ]
  },
  {
   "cell_type": "code",
   "execution_count": null,
   "id": "17e972c4-49a7-4e7c-9a8c-4ddac6b74d25",
   "metadata": {},
   "outputs": [],
   "source": [
    "# Add Data Assets (a discrete set of data) to the Data Context. That is, pick out the table (or query) of interest, for the analysis\n",
    "\n",
    "data_asset_fact_trades = pg_datasource.add_table_asset(name = \"fact_trades\", table_name = \"fact_trades\", schema_name = \"public\")"
   ]
  },
  {
   "cell_type": "markdown",
   "id": "dfc772ef-53ef-46be-a3b7-a23df28c809f",
   "metadata": {
    "jp-MarkdownHeadingCollapsed": true
   },
   "source": [
    "#### **DataAsset From Pandas Source**"
   ]
  },
  {
   "cell_type": "code",
   "execution_count": null,
   "id": "232b2ed1-2c0d-445d-9363-9c4e70ee4a29",
   "metadata": {},
   "outputs": [],
   "source": [
    "# However, for this project, we will pull the postgres table into a pandas dataframe first, then create the data asset from that\n",
    "\n",
    "#create the connection engine\n",
    "engine = create_engine(postgresql_connection_string)\n",
    "conn = engine.connect().execution_options(stream_results=True)"
   ]
  },
  {
   "cell_type": "code",
   "execution_count": null,
   "id": "b863ef3c-eb37-498e-b111-c6fd41a25453",
   "metadata": {},
   "outputs": [],
   "source": [
    "#read the postgres table into a pandas dataframe\n",
    "df_fact_trades = pd.read_sql_table( \"fact_trades\", conn, \"public\")"
   ]
  },
  {
   "cell_type": "code",
   "execution_count": null,
   "id": "42a31920-e4e0-48af-bcd8-230cda732bdf",
   "metadata": {
    "scrolled": true
   },
   "outputs": [],
   "source": [
    "df_fact_trades.head()"
   ]
  },
  {
   "cell_type": "code",
   "execution_count": null,
   "id": "449c75c3",
   "metadata": {},
   "outputs": [],
   "source": [
    "#add the pandas dataframe to the data context as a data asset\n",
    "pandas_datasource = fact_trades_context.sources.add_pandas(name= \"pandas_fact_trades_datasource\")\n",
    "df_name = 'pandas_fact_trades'\n",
    "\n",
    "data_asset_pandas_fact_trades = pandas_datasource.add_dataframe_asset(name = df_name)"
   ]
  },
  {
   "cell_type": "code",
   "execution_count": null,
   "id": "2e0b98a7-685a-4cd9-8745-14421e5a77fa",
   "metadata": {},
   "outputs": [],
   "source": [
    "#pull already defined pandas datasource data asset\n",
    "data_asset_pandas_fact_trades = fact_trades_context.get_datasource(\"pandas_fact_trades_datasource\").get_asset(\"pandas_fact_trades\")\n",
    "data_asset_pandas_fact_trades"
   ]
  },
  {
   "cell_type": "code",
   "execution_count": null,
   "id": "83e41ccc-2446-4fe3-9aef-6d70d6df6ca9",
   "metadata": {
    "scrolled": true
   },
   "outputs": [],
   "source": [
    "#view Data Asset(s) in the context\n",
    "# all_dataassets = fact_trades_context.get_available_data_asset_names(\"pandas_fact_trades_datasource\")\n",
    "all_dataassets = fact_trades_context.get_available_data_asset_names()\n",
    "all_dataassets"
   ]
  },
  {
   "cell_type": "markdown",
   "id": "2e829633-42b4-4bc1-b06c-c53c61632a81",
   "metadata": {},
   "source": [
    "## **Create Expectation Suite**"
   ]
  },
  {
   "cell_type": "markdown",
   "id": "5adaf6cf-7cfc-4345-9c88-4e9b24476341",
   "metadata": {},
   "source": [
    "### **Build Batch (Batch Requests)**"
   ]
  },
  {
   "cell_type": "markdown",
   "id": "4ceb4c4c-0da3-4be6-803f-0df49a95269b",
   "metadata": {},
   "source": [
    "#### **1. SQL Source**"
   ]
  },
  {
   "cell_type": "code",
   "execution_count": null,
   "id": "6fae46ab",
   "metadata": {},
   "outputs": [],
   "source": [
    "batch_request_fact_trades = data_asset_fact_trades.build_batch_request()\n",
    "batch_request_fact_trades"
   ]
  },
  {
   "cell_type": "code",
   "execution_count": null,
   "id": "40b560a9-be32-4b82-8cd3-f2135cd79474",
   "metadata": {},
   "outputs": [],
   "source": [
    "# The options dictionary can be used to limit the Batches returned by a Batch Request. Omitting the options dictionary will result in all available Batches being returned. (Like subseting the data)\n",
    "\n",
    "# To inspect the allowed keys for the options dictionary, you can do the following:\n",
    "\n",
    "# options = data_asset_fact_trades.batch_request_options\n",
    "# print(options)"
   ]
  },
  {
   "cell_type": "code",
   "execution_count": null,
   "id": "178b09c5",
   "metadata": {},
   "outputs": [],
   "source": [
    "# Vverify that the correct Batches were returned\n",
    "batches_fact_trades = data_asset_fact_trades.get_batch_list_from_batch_request(batch_request_fact_trades)\n",
    "\n",
    "# Because Batch definitions are quite verbose, it is easiest to determine what data the Batch Request\n",
    "# Will return by printing just the batch_spec of each Batch.\n",
    "for batch in batches_fact_trades:\n",
    "    print(batch.batch_spec)"
   ]
  },
  {
   "cell_type": "markdown",
   "id": "d6a5fc13-ee26-478e-9053-25f44069930e",
   "metadata": {
    "jp-MarkdownHeadingCollapsed": true
   },
   "source": [
    "#### **2. Pandas Source**"
   ]
  },
  {
   "cell_type": "code",
   "execution_count": null,
   "id": "6929d36f-834f-4c08-ab11-c15f344d63dc",
   "metadata": {},
   "outputs": [],
   "source": [
    "# Build batch\n",
    "batch_request_pandas_fact_trades = data_asset_pandas_fact_trades.build_batch_request(dataframe = df_fact_trades)\n",
    "batch_request_pandas_fact_trades"
   ]
  },
  {
   "cell_type": "code",
   "execution_count": null,
   "id": "a7fde19b-3570-421a-a64f-2bdff5cb6be6",
   "metadata": {},
   "outputs": [],
   "source": [
    "# Verify that the correct Batches were returned\n",
    "batches_pandas_fact_trades = data_asset_pandas_fact_trades.get_batch_list_from_batch_request(batch_request_pandas_fact_trades)\n",
    "\n",
    "# Because Batch definitions are quite verbose, it is easiest to determine what data the Batch Request\n",
    "# Will return by printing just the batch_spec of each Batch.\n",
    "for batch in batches_pandas_fact_trades:\n",
    "    print(batch.batch_spec)"
   ]
  },
  {
   "cell_type": "markdown",
   "id": "b91b4c28-3870-45ad-983c-6acbb0820b45",
   "metadata": {
    "jp-MarkdownHeadingCollapsed": true
   },
   "source": [
    "### **Auto-Generate Expectations**"
   ]
  },
  {
   "cell_type": "markdown",
   "id": "2dcf2acf-0d5d-4857-a17c-4b5420e9b967",
   "metadata": {
    "jp-MarkdownHeadingCollapsed": true
   },
   "source": [
    "#### **1. Data Assistant**"
   ]
  },
  {
   "cell_type": "code",
   "execution_count": null,
   "id": "ed07dfad-a3e4-4cf4-925b-fecf95033c3c",
   "metadata": {},
   "outputs": [],
   "source": [
    "# Define unnecessary columns to be excluded by the data assistant\n",
    "exclude_column_fact_trades = [column1, column5, column7, column9]"
   ]
  },
  {
   "cell_type": "code",
   "execution_count": null,
   "id": "6c4b8ef1-5b55-4e99-9a70-7be23dd3cb8c",
   "metadata": {
    "scrolled": true
   },
   "outputs": [],
   "source": [
    "data_assistant_result_fact_trades = fact_trades_context.assistants.onboarding.run(\n",
    "    batch_request = batch_request_pandas_fact_trades,\n",
    "    exclude_column_names = exclude_column_fact_trades\n",
    ")"
   ]
  },
  {
   "cell_type": "markdown",
   "id": "7eec04dd-7a13-4965-a22e-5236850c6d50",
   "metadata": {},
   "source": [
    "##### *View Auto-Generated Expectation Suite*"
   ]
  },
  {
   "cell_type": "code",
   "execution_count": null,
   "id": "2f31b319-cc87-49d5-a1b8-8011fcd61a6e",
   "metadata": {},
   "outputs": [],
   "source": [
    "data_assistant_result_fact_trades"
   ]
  },
  {
   "cell_type": "code",
   "execution_count": null,
   "id": "33034226-caf9-447e-99d1-5c429d2bceac",
   "metadata": {
    "scrolled": true
   },
   "outputs": [],
   "source": [
    "# To see all Metrics computed by the Onboarding Data Assistant\n",
    "metrics_fact_trades = data_assistant_result_fact_trades.metrics_by_domain\n",
    "metrics_fact_trades"
   ]
  },
  {
   "cell_type": "code",
   "execution_count": null,
   "id": "f401d748-f4fe-488d-a58f-0bbcda275957",
   "metadata": {
    "scrolled": true
   },
   "outputs": [],
   "source": [
    "# Plot metrics\n",
    "metrics_plot_fact_trades = data_assistant_result_fact_trades.plot_metrics()"
   ]
  },
  {
   "cell_type": "code",
   "execution_count": null,
   "id": "c0c4993f-d72a-4401-a3a2-18c757b37eb7",
   "metadata": {
    "scrolled": true
   },
   "outputs": [],
   "source": [
    "# View auto created expectations grouped by Expectation Type\n",
    "\n",
    "exp_by_exptype_fact_trades = data_assistant_result_fact_trades.show_expectations_by_expectation_type(\n",
    "   expectation_suite_name = data_assistant_result_fact_trades)"
   ]
  },
  {
   "cell_type": "code",
   "execution_count": null,
   "id": "d5046e97-c1df-4363-a45c-404057ec5e54",
   "metadata": {
    "scrolled": true
   },
   "outputs": [],
   "source": [
    "# View auto created expectations grouped by Domain\n",
    "\n",
    "exp_by_domain_fact_trades = data_assistant_result_fact_trades.show_expectations_by_domain_type(\n",
    "    expectation_suite_name = data_assistant_result_fact_trades)"
   ]
  },
  {
   "cell_type": "code",
   "execution_count": null,
   "id": "1c859500-3348-45a3-9f99-a88d99723e5c",
   "metadata": {},
   "outputs": [],
   "source": [
    "# Where applicable - plot the expectations produced and the associated metrics calculated by the onboarding data assistant\n",
    "expectation_metrics_plot_fact_trades = data_assistant_result_fact_trades.plot_expectations_and_metrics()\n",
    "\n",
    "# !!! Note !!!\n",
    "\n",
    "# If no Expectation was produced by the Data Assistant for a given Metric,\n",
    "# neither the Expectation nor the Metric will be visualized by the plot_expectations_and_metrics() method."
   ]
  },
  {
   "cell_type": "markdown",
   "id": "bf42315d-4044-48ec-9351-2a6af5188a47",
   "metadata": {
    "jp-MarkdownHeadingCollapsed": true
   },
   "source": [
    "#### **2. Pandas Profiler**"
   ]
  },
  {
   "cell_type": "code",
   "execution_count": null,
   "id": "8fa12b2f-a79d-4f4f-b325-5aba8abc8ead",
   "metadata": {},
   "outputs": [],
   "source": [
    "# Connect sqlalchemy to postgresql\n",
    "engine = create_engine(postgresql_connection_string)\n",
    "conn = engine.connect().execution_options(stream_results=True)"
   ]
  },
  {
   "cell_type": "code",
   "execution_count": null,
   "id": "a0c9fbd3-df9f-427e-9247-86da21da5ef8",
   "metadata": {},
   "outputs": [],
   "source": [
    "pandas_fact_trades = pd.read_sql_table('fact_trades', engine.connect(), schema = 'transactions')"
   ]
  },
  {
   "cell_type": "code",
   "execution_count": null,
   "id": "d3bafe4c-17fc-4350-a16c-340fa57e56e8",
   "metadata": {},
   "outputs": [],
   "source": [
    "pandas_fact_trades.describe(include='all')"
   ]
  },
  {
   "cell_type": "code",
   "execution_count": null,
   "id": "d808b731-af1a-4e65-a4a5-77938ccc03dc",
   "metadata": {
    "scrolled": true
   },
   "outputs": [],
   "source": [
    "profiler_fact_trades = ProfileReport(pandas_fact_trades)\n",
    "profiler_fact_trades"
   ]
  },
  {
   "cell_type": "markdown",
   "id": "9c2e9614-9095-4282-b69f-c591782251e1",
   "metadata": {},
   "source": [
    "### **Define Expectation Suite**"
   ]
  },
  {
   "cell_type": "code",
   "execution_count": null,
   "id": "a5defae2-a5d3-4807-9adb-e8ef7c5beaca",
   "metadata": {},
   "outputs": [],
   "source": [
    "# Prepare a new expectation suite, including the name of the expectation suite only\n",
    "\n",
    "expectation_suite_name_fact_trades = \"fact_trades_expectations\"\n",
    "\n",
    "expectation_suite_fact_trades = fact_trades_context.add_or_update_expectation_suite(expectation_suite_name = expectation_suite_name_fact_trades)"
   ]
  },
  {
   "cell_type": "code",
   "execution_count": null,
   "id": "8e454ff6-c732-43c4-8c51-ff943587e4d2",
   "metadata": {},
   "outputs": [],
   "source": [
    "# Instantiate Validator\n",
    "validator_fact_trades = fact_trades_context.get_validator(batch_request = batch_request_fact_trades,\n",
    "                                                                      expectation_suite_name = expectation_suite_name_fact_trades)"
   ]
  },
  {
   "cell_type": "code",
   "execution_count": null,
   "id": "2d0ac279-d838-41cc-bf05-e667643a823b",
   "metadata": {
    "scrolled": true
   },
   "outputs": [],
   "source": [
    "validator_fact_trades.head()"
   ]
  },
  {
   "cell_type": "code",
   "execution_count": null,
   "id": "d6908ae8-4491-4027-8158-0c7c1353ea66",
   "metadata": {},
   "outputs": [],
   "source": [
    "validator_fact_trades.columns()"
   ]
  },
  {
   "cell_type": "markdown",
   "id": "4226548a-6c4e-4415-a399-0ec9b6f460d3",
   "metadata": {},
   "source": [
    "#### **Table Expectations**"
   ]
  },
  {
   "cell_type": "code",
   "execution_count": null,
   "id": "936628a5-239d-47c3-b8b5-0833fc4eb0b0",
   "metadata": {
    "scrolled": true
   },
   "outputs": [],
   "source": [
    "table_expectations = [\n",
    "    validator_fact_trades.expect_table_columns_to_match_set(column_set = ['transaction_price','discount','client_type','user_type',\n",
    "                                                                          'client_id','total_weight_kg','currency','currency_code',\n",
    "                                                                          'client_country_code','client_country','system_name','request_id',\n",
    "                                                                          'requested_volume','client_email','fee_per_trade','actual_trade_vol_mt'\n",
    "                                                                          'is_deleted','transaction_units','vat_value','transaction_type',\n",
    "                                                                          'actual_trade_value','trade_date','client_phone','discount_type',\n",
    "                                                                          'deduction','client_fullname','asset_code','trade_status',\n",
    "                                                                          'units_volume','requested_units','transaction_id','asset_name','asset_location']),\n",
    "]"
   ]
  },
  {
   "cell_type": "markdown",
   "id": "289fb0ab-78a2-438d-a519-444240c4cfe1",
   "metadata": {},
   "source": [
    "#### **Columns Expectations**"
   ]
  },
  {
   "cell_type": "markdown",
   "id": "d2adc0de-b68f-4ba7-bdac-b4aad6168d94",
   "metadata": {
    "scrolled": true
   },
   "source": [
    "##### **1. In-Built Expectations**"
   ]
  },
  {
   "cell_type": "code",
   "execution_count": null,
   "id": "f101ab7e-e745-42d9-be55-f7f5674043e1",
   "metadata": {
    "scrolled": true
   },
   "outputs": [],
   "source": [
    "# expect_column_values_to_not_be_null\n",
    "\n",
    "non_null_column = ['transaction_price',\n",
    "                   'client_id',\n",
    "                   'currency',\n",
    "                   'currency_code',\n",
    "                   'client_country_code',\n",
    "                   'client_country',\n",
    "                   'trade_is_on_behalf',\n",
    "                   'requested_price',\n",
    "                   'asset_type',\n",
    "                   'system_name',\n",
    "                   'request_id',\n",
    "                   'requested_volume',\n",
    "                   'client_email',\n",
    "                   'fee_per_trade',\n",
    "                   'is_deleted',\n",
    "                   'transaction_type',\n",
    "                   'trade_date',\n",
    "                   'client_phone',\n",
    "                   'deduction',\n",
    "                   'client_fullname',\n",
    "                   'asset_code',\n",
    "                   'trade_status',\n",
    "                   'units_volume',\n",
    "                   'requested_units',\n",
    "                   'client_type',\n",
    "                   'user_type',\n",
    "                   'transaction_id',\n",
    "                   'asset_name',\n",
    "                   'asset_location',\n",
    "                   'deal_timestamp',\n",
    "                   'trade_timestamp'\n",
    "                   ]\n",
    "\n",
    "for column in non_null_column:\n",
    "    validator_fact_trades.expect_column_values_to_not_be_null(column = column)"
   ]
  },
  {
   "cell_type": "code",
   "execution_count": null,
   "id": "e3e8fc8a-f44a-432a-b288-c8cf9a1fd71b",
   "metadata": {
    "scrolled": true
   },
   "outputs": [],
   "source": [
    "# expect_column_values_to_not_be_null (conditional)\n",
    "\n",
    "non_null_column_cond_matched = ['total_weight_kg','actual_trade_vol_mt','transaction_units',\n",
    "                                'vat_value','actual_trade_value',]\n",
    "\n",
    "non_null_column_cond_delivered = ['processed_inventory','is_contract_note_sent',]\n",
    "\n",
    "non_null_column_cond_sec_type = ['asset_location',]\n",
    "\n",
    "\n",
    "for column in non_null_column_cond_matched:\n",
    "    validator_fact_trades.expect_column_values_to_not_be_null(column = column,\n",
    "                                                                    condition_parser = 'great_expectations__experimental__',\n",
    "                                                                    row_condition = 'col(\"trade_status\") == \"Merged\"')\n",
    "for column in non_null_column_cond_delivered:\n",
    "    validator_fact_trades.expect_column_values_to_not_be_null(column = column,\n",
    "                                                                    condition_parser = 'great_expectations__experimental__',\n",
    "                                                                    row_condition = 'col(\"asset_type\")==\"Options\" & col(\"\")==\"Merged\"')\n",
    "    \n",
    "for column in non_null_column_cond_sec_type:\n",
    "    validator_fact_trades.expect_column_values_to_not_be_null(column = column,\n",
    "                                                                    condition_parser = 'great_expectations__experimental__',\n",
    "                                                                    row_condition = 'col(\"asset_type\")==\"Futures\" | col(\"asset_type\")==\"Options\"')"
   ]
  },
  {
   "cell_type": "code",
   "execution_count": null,
   "id": "ec635574-689e-4439-b0f4-2eefe02675e0",
   "metadata": {},
   "outputs": [],
   "source": [
    "# expect_column_values_to_be_unique\n",
    "\n",
    "unique_column = ['transaction_id']\n",
    "\n",
    "for column in unique_column:\n",
    "    validator_fact_trades.expect_column_values_to_be_unique(column = column)"
   ]
  },
  {
   "cell_type": "code",
   "execution_count": null,
   "id": "c888f400-179a-4ef4-85bf-2cb06f24e430",
   "metadata": {
    "scrolled": true
   },
   "outputs": [],
   "source": [
    "# expect_column_values_to_be_of_type\n",
    "\n",
    "text_column = ['client_type','user_type','currency','asset_type','system_name','request_id',\n",
    "               'transaction_type','asset_code','trade_status','transaction_id','asset_name',]\n",
    "\n",
    "int_column = ['requested_volume','units_volume','requested_units',]\n",
    "\n",
    "float_column = ['transaction_price','requested_price','fee_per_trade',]\n",
    "\n",
    "bool_column = ['trade_is_on_behalf','is_deleted',]\n",
    "\n",
    "timestamp_column = ['trade_date','deal_timestamp','trade_timestamp']\n",
    "\n",
    "\n",
    "for column in text_column:\n",
    "    validator_fact_trades.expect_column_values_to_be_of_type(column = column,\n",
    "                                                                   type_ = 'TEXT', #'STR'\n",
    "                                                                   mostly = 1.0)\n",
    "\n",
    "for column in int_column:\n",
    "    validator_fact_trades.expect_column_values_to_be_of_type(column = column,\n",
    "                                                                   type_ = 'INTEGER', #'INT'\n",
    "                                                                   mostly = 1.0)\n",
    "\n",
    "for column in float_column:\n",
    "    validator_fact_trades.expect_column_values_to_be_of_type(column = column,\n",
    "                                                                   type_ = 'FLOAT',\n",
    "                                                                   mostly = 1.0)\n",
    "\n",
    "for column in bool_column:\n",
    "    validator_fact_trades.expect_column_values_to_be_of_type(column = column,\n",
    "                                                                   type_ = 'BOOLEAN', #'BOOL'\n",
    "                                                                   mostly = 1.0)\n",
    "\n",
    "for column in timestamp_column:\n",
    "    validator_fact_trades.expect_column_values_to_be_of_type(column = column,\n",
    "                                                                   type_ = 'TIMESTAMP',\n",
    "                                                                   mostly = 1.0)\n",
    "\n",
    "# Hashed out are case where pandas datasource is used"
   ]
  },
  {
   "cell_type": "code",
   "execution_count": null,
   "id": "59a1f525-f9e4-4c29-9832-d9bf092fe700",
   "metadata": {
    "scrolled": true
   },
   "outputs": [],
   "source": [
    "# expect_column_values_to_match_regex\n",
    "\n",
    "tids = ['transaction_id']\n",
    "\n",
    "emails = ['client_email']\n",
    "\n",
    "# change for transaction_id\n",
    "for column in tids:\n",
    "    validator_fact_trades.expect_column_values_to_match_regex(column = column,\n",
    "                                                                    regex = '^\\d{12}$',\n",
    "                                                                    mostly = 1.0)\n",
    "\n",
    "for column in emails:\n",
    "    validator_fact_trades.expect_column_values_to_match_regex(column = column,\n",
    "                                                                    regex = '^[a-zA-Z0-9.!#$%&*+/=?^_`{|}~-]+@[a-zA-Z0-9-]+(?:\\.[a-zA-Z0-9-]+)*$',\n",
    "                                                                    mostly = 1.0)"
   ]
  },
  {
   "cell_type": "code",
   "execution_count": null,
   "id": "25e81291-f757-4817-81e7-ed037f1053f6",
   "metadata": {
    "scrolled": true
   },
   "outputs": [],
   "source": [
    "# expect_column_values_to_be_between\n",
    "\n",
    "now = datetime.now()\n",
    "\n",
    "value_range_column = {\"trade_date\": [now, pd.to_datetime('2020-01-09'),],\n",
    "                      \"trade_timestamp,\": [now, pd.to_datetime('2020-01-06T00:00:00.000000+00:00'),],\n",
    "                      \"deal_timestamp,\": [now, pd.to_datetime('2020-02-20T00:00:00.000000+00:00'),],}\n",
    "\n",
    "for column, date in value_range_column.items():\n",
    "    validator_fact_trades.expect_column_values_to_be_between(column = column,\n",
    "                                                                   max_value = pd.to_datetime(date[0], utc=True), min_value = pd.to_datetime(date[1], utc=True),\n",
    "                                                                   strict_max = True, strict_min = True,\n",
    "                                                                   mostly = 1.0)"
   ]
  },
  {
   "cell_type": "code",
   "execution_count": null,
   "id": "d569a1c1-8d40-4e91-994d-e28d5dabf08b",
   "metadata": {
    "scrolled": true
   },
   "outputs": [],
   "source": [
    "# expect_table_columns_to_match_set\n",
    "\n",
    "categorical_columns = {\"trade_status\": ['Open','Partial-Merge','Merged','Cancelled'],\n",
    "                       \"currency\": ['US Dollars','Pounds', 'Euro'],\n",
    "                       \"currency_code\": ['USD', 'GBP', 'EUR'],\n",
    "                       \"system_name\": ['BASE', 'EXTERNAL', 'NEXT'],\n",
    "                       \"units_volume\": [10, 1000],\n",
    "                       \"transaction_type\": ['Disperse','Purchase'],\n",
    "                       \"client_type\": ['Intermediary','Advocate','Trader'],\n",
    "                       \"user_type\": ['Personal','Business'],\n",
    "                       \"client_country\": ['United States of America','Canada','Japan',\n",
    "                                          'United Kingdom of Great Britain and Northern Ireland'],\n",
    "                       \"client_country_code\": ['US','CA','JP','UK'],\n",
    "                       \"asset_type\": ['Futures','Forwards','Options'],\n",
    "                       \"asset_name\": ['asset1','asset2','asset3','asset4','asset5','asset6','asset7','asset8','asset9','asset10',],\n",
    "                       \"asset_code\": ['ASS78', 'HSS87', 'JSS98', 'KSS09', 'LSS10', 'MSS11', 'NSS12', 'OSS13', 'PSS14', 'QSS15',],\n",
    "                      }\n",
    "\n",
    "for column, distinct in categorical_columns.items():\n",
    "    validator_fact_trades.expect_column_values_to_be_in_set(column = column,\n",
    "                                                                value_set = distinct,\n",
    "                                                                 mostly = 1.0)"
   ]
  },
  {
   "cell_type": "markdown",
   "id": "16ed668b-17f1-4bd9-9861-4bb126b66d1d",
   "metadata": {
    "jp-MarkdownHeadingCollapsed": true,
    "scrolled": true
   },
   "source": [
    "##### **2. Custom Expectations**"
   ]
  },
  {
   "cell_type": "code",
   "execution_count": null,
   "id": "3244a470-ad3a-449e-bddf-68a737d9bdd4",
   "metadata": {},
   "outputs": [],
   "source": [
    "# Import custom expectations\n",
    "\n",
    "from expectations.expect_column_values_to_be_between_quartile_limits_by_category import ExpectColumnValuesToBeBetweenQuartileLimitsByCategory\n",
    "from expectations.expect_column_values_to_be_between_quartile_limits import ExpectColumnValuesToBeBetweenQuartileLimits"
   ]
  },
  {
   "cell_type": "code",
   "execution_count": null,
   "id": "84e8cf4a-a2a2-4671-903a-7809dc833dee",
   "metadata": {
    "scrolled": true
   },
   "outputs": [],
   "source": [
    "# expect_column_values_to_be_between_quartile_limits_by_category\n",
    "\n",
    "quartile_limit = ['transaction_price','requested_price',]\n",
    "\n",
    "for column in quartile_limit:\n",
    "    validator_fact_trades.expect_column_values_to_be_between_quartile_limits_by_category(column_A = column,\n",
    "                                                                                               column_B = 'asset_code',\n",
    "                                                                                               mostly = 1.0)"
   ]
  },
  {
   "cell_type": "code",
   "execution_count": null,
   "id": "52adad78",
   "metadata": {},
   "outputs": [],
   "source": [
    "# expect_column_values_to_be_between_quartile_limits\n",
    "\n",
    "quartile_limit = ['transaction_price','requested_price',]\n",
    "\n",
    "for column in quartile_limit:\n",
    "    validator_fact_trades.expect_column_values_to_be_between_quartile_limits(column = column,\n",
    "                                                                                   mostly = 1.0)"
   ]
  },
  {
   "cell_type": "markdown",
   "id": "895c745d-1907-44c1-a9c0-759fe0d0b8a7",
   "metadata": {
    "scrolled": true
   },
   "source": [
    "#### **Save Expectation Suite**"
   ]
  },
  {
   "cell_type": "code",
   "execution_count": null,
   "id": "6b9331d6-29da-4011-8e52-328f6586b61c",
   "metadata": {},
   "outputs": [],
   "source": [
    "# Save Expectation Suite\n",
    "\n",
    "validator_fact_trades.save_expectation_suite(discard_failed_expectations = False)"
   ]
  },
  {
   "cell_type": "code",
   "execution_count": null,
   "id": "447b77b5-76f9-4237-98d0-98d4ac6d2775",
   "metadata": {
    "scrolled": true
   },
   "outputs": [],
   "source": [
    "expectation_suite_fact_trades = fact_trades_context.get_expectation_suite(expectation_suite_name = expectation_suite_name_fact_trades)\n",
    "\n",
    "expectation_suite_fact_trades"
   ]
  },
  {
   "cell_type": "code",
   "execution_count": null,
   "id": "1777a51a-1d15-4e3b-bc34-297791580edd",
   "metadata": {},
   "outputs": [],
   "source": [
    "# Save the expectation suite\n",
    "# In the interactive workflow, an Expectation Suite will be configured to include Expectations as they are defined, but will not be saved to an Expectation Store until you issue the command for it to be.\n",
    "\n",
    "saved_expectation_suite_fact_trades = fact_trades_context.save_expectation_suite(expectation_suite_fact_trades, discard_failed_expectations=False)"
   ]
  },
  {
   "cell_type": "markdown",
   "id": "e1cd93db-b9f7-45c1-b8df-988958fa542e",
   "metadata": {
    "jp-MarkdownHeadingCollapsed": true
   },
   "source": [
    "## **Edit Expectation Suite (If required)**"
   ]
  },
  {
   "cell_type": "code",
   "execution_count": null,
   "id": "8d11fd19",
   "metadata": {},
   "outputs": [],
   "source": [
    "# Import required Library\n",
    "\n",
    "from great_expectations.core.expectation_suite import ExpectationConfiguration"
   ]
  },
  {
   "cell_type": "code",
   "execution_count": null,
   "id": "e99b5445",
   "metadata": {},
   "outputs": [],
   "source": [
    "config = [ExpectationConfiguration(expectation_type=\"expect_column_values_to_be_between\",\n",
    "                                   kwargs={\"auto\": True,\n",
    "                                           \"column\": \"xxx\",\n",
    "                                           \"domain\": \"column\",\n",
    "                                           \"min_value\": 1,\n",
    "                                           \"max_value\": 4,\n",
    "                                           #'max_value': 6, this is what was changed, as an example\n",
    "                                           \"mostly\": 1.0,\n",
    "                                           \"strict_max\": False,\n",
    "                                           \"strict_min\": False,},\n",
    "                                  ),\n",
    "         \n",
    "         ]"
   ]
  },
  {
   "cell_type": "code",
   "execution_count": null,
   "id": "79066ac9",
   "metadata": {},
   "outputs": [],
   "source": [
    "for exp in config:\n",
    "    expectation_suite.add_expectation(ExpectationConfiguration(exp))"
   ]
  },
  {
   "cell_type": "code",
   "execution_count": null,
   "id": "4841717e",
   "metadata": {},
   "outputs": [],
   "source": [
    "or_config = [expectation_type = \"expect_column_values_to_be_between\",\n",
    "                                   kwargs = {\"auto\": True,\n",
    "                                           \"column\": \"xxx\",\n",
    "                                           \"domain\": \"column\",\n",
    "                                           \"min_value\": 1,\n",
    "                                           \"max_value\": 4,\n",
    "                                           #'max_value': 6, this is what was changed, as an example\n",
    "                                           \"mostly\": 1.0,\n",
    "                                           \"strict_max\": False,\n",
    "                                           \"strict_min\": False},\n",
    "          ]"
   ]
  },
  {
   "cell_type": "code",
   "execution_count": null,
   "id": "82090b36",
   "metadata": {},
   "outputs": [],
   "source": [
    "for or_exp in or_config:\n",
    "    expectation_suite.add_expectation(ExpectationConfiguration(or_exp))"
   ]
  },
  {
   "cell_type": "code",
   "execution_count": null,
   "id": "a95d55bc",
   "metadata": {},
   "outputs": [],
   "source": [
    "# Confirm edit\n",
    "\n",
    "config_to_search = ExpectationConfiguration(\n",
    "    expectation_type=\"expect_column_values_to_be_between\",\n",
    "    kwargs={\"column\": \"xxx\"},\n",
    ")\n",
    "found_expectation = expectation_suite.find_expectations(config_to_search, match_type=\"domain\")\n",
    "\n",
    "# This assertion will succeed because the ExpectationConfiguration has been updated.\n",
    "assert found_expectation == [config]"
   ]
  },
  {
   "cell_type": "markdown",
   "id": "635e4491-bb0d-494a-b8e3-03d29704f8bc",
   "metadata": {},
   "source": [
    "## **Validate Data**"
   ]
  },
  {
   "cell_type": "code",
   "execution_count": null,
   "id": "0b2c59e3",
   "metadata": {},
   "outputs": [],
   "source": [
    "from great_expectations.checkpoint import Checkpoint"
   ]
  },
  {
   "cell_type": "code",
   "execution_count": null,
   "id": "c8ac8a40",
   "metadata": {},
   "outputs": [],
   "source": [
    "# Create and Store Checkpoint\n",
    "\n",
    "checkpoint_name = \"checkpoint_transactions\"\n",
    "\n",
    "checkpoint_transactions = Checkpoint(\n",
    "    name = checkpoint_name,\n",
    "    run_name_template = \"%Y%m%d-%H%M%S-transactions\",\n",
    "    data_context = fact_trades_context,\n",
    "    action_list = [\n",
    "        {\n",
    "            \"name\": \"store_validation_result\",\n",
    "            \"action\": {\"class_name\": \"StoreValidationResultAction\"},\n",
    "        },\n",
    "        {\n",
    "            \"name\": \"store_evaluation_params\",\n",
    "            \"action\": {\"class_name\": \"StoreEvaluationParametersAction\"},\n",
    "        },\n",
    "        {\n",
    "            \"name\": \"update_data_docs\",\n",
    "            \"action\": {\"class_name\": \"UpdateDataDocsAction\" }\n",
    "        },\n",
    "        # {\n",
    "            # \"name\": \"send_email_on_validation_result\",\n",
    "            # \"action\": {\"class_name\": \"EmailAction\",\n",
    "                      # \"notify_on\" : \"failure\",\n",
    "                        ## put the actual following information in the uncommitted/config_variables.yml file\n",
    "                       ## or pass in as environment variable\n",
    "        # renderer: {module_name: great_expectations.render.renderer.email_renderer, class_name: EmailRenderer},\n",
    "                      # \"smtp_address\": ${smtp_address},\n",
    "                       # \"smtp_port\": ${smtp_port},\n",
    "                       # \"sender_login\": ${email_address},\n",
    "                       # \"sender_password\": ${sender_password},\n",
    "                       # \"sender_alias\": ${sender_alias}, # useful to send an email as an alias\n",
    "                       # \"receiver_emails\": ${receiver_emails},\n",
    "                       # \"use_tls\": False,\n",
    "                       # \"use_ssl\": True}\n",
    "        # },\n",
    "    ],\n",
    "    validations = [\n",
    "                   {\"batch_request\": batch_request_fact_trades,\n",
    "                    \"expectation_suite_name\": expectation_suite_name_fact_trades}\n",
    "                  ],\n",
    "    # runtime_configuration = {\"result_format\": {\"result_format\": \"COMPLETE\",\n",
    "    #                                            \"unexpected_index_column_names\": [\"pk_column\"],\n",
    "    #                                            \"return_unexpected_index_query\": True}\n",
    "    #                         }\n",
    ")"
   ]
  },
  {
   "cell_type": "code",
   "execution_count": null,
   "id": "51e09bf2-edb8-48c2-ba3b-f9a3565b24bb",
   "metadata": {},
   "outputs": [],
   "source": [
    "# Create and Store Checkpoint\n",
    "\n",
    "checkpoint_name = \"checkpoint_transactions\"\n",
    "\n",
    "checkpoint_transactions = Checkpoint(name = checkpoint_name,\n",
    "                                     config_version = 3.0,\n",
    "                                     run_name_template = \"%Y%m%d-%H%M%S-transactions\",)"
   ]
  },
  {
   "cell_type": "code",
   "execution_count": null,
   "id": "99f76cfa",
   "metadata": {},
   "outputs": [],
   "source": [
    "checkpoint_transactions"
   ]
  },
  {
   "cell_type": "raw",
   "id": "f6734f27-9cce-4b81-93ae-6492c71b14ae",
   "metadata": {},
   "source": [
    "https://docs.greatexpectations.io/docs/guides/validation/validation_actions/actions_lp/\n",
    "# Guide for populating email action field\n",
    "\n",
    "\n",
    "    Args:\n",
    "        data_context: Data Context that is used by the Action.\n",
    "        renderer: Specifies the renderer used to generate an email, for example:\n",
    "            ```python\n",
    "            {\n",
    "               \"module_name\": \"great_expectations.render.renderer.email_renderer\",\n",
    "               \"class_name\": \"EmailRenderer\",\n",
    "            }\n",
    "            ```\n",
    "        smtp_address: Address of the SMTP server used to send the email.\n",
    "        smtp_address: Port of the SMTP server used to send the email.\n",
    "        sender_login: Login used send the email.\n",
    "        sender_password: Password used to send the email.\n",
    "        sender_alias: Optional. Alias used to send the email (default = sender_login).\n",
    "        receiver_emails: Email addresses that will receive the email (separated by commas).\n",
    "        use_tls: Optional. Use of TLS to send the email (using either TLS or SSL is highly recommended).\n",
    "        use_ssl: Optional. Use of SSL to send the email (using either TLS or SSL is highly recommended).\n",
    "        notify_on: \"Specifies validation status that triggers notification. One of \"all\", \"failure\", \"success\".\n",
    "        notify_with: Optional list of DataDocs site names to display  in Slack messages. Defaults to all.\n",
    "\n",
    "https://docs.greatexpectations.io/docs/guides/validation/validation_actions/how_to_trigger_email_as_a_validation_action\n",
    "https://github.com/great-expectations/great_expectations/blob/develop/great_expectations/checkpoint/actions.py"
   ]
  },
  {
   "cell_type": "code",
   "execution_count": null,
   "id": "bc5e598b",
   "metadata": {},
   "outputs": [],
   "source": [
    "# Run checkpoint to test auto-created expectation suite and validate data\n",
    "\n",
    "checkpoint_transactions_result = checkpoint_transactions.run()\n",
    "# checkpoint_transactions_result\n",
    "\n",
    "assert checkpoint_transactions_result[\"success\"] is False"
   ]
  },
  {
   "cell_type": "code",
   "execution_count": null,
   "id": "cee4ff2a-edeb-49cf-9b95-c82c433d1975",
   "metadata": {
    "scrolled": true
   },
   "outputs": [],
   "source": [
    "# To run validation directly from the data context(1)\n",
    "# Save the checkpoint\n",
    "\n",
    "# fact_trades_context.add_or_update_checkpoint(checkpoint = checkpoint_transactions)\n",
    "checkpoint_name = \"checkpoint_transactions\"\n",
    "fact_trades_context.add_or_update_checkpoint(name = checkpoint_name,\n",
    "                                                   validator = validator_fact_trades\n",
    "                                                  )"
   ]
  },
  {
   "cell_type": "code",
   "execution_count": null,
   "id": "b39cfe5d",
   "metadata": {},
   "outputs": [],
   "source": [
    "# To update the checkpoint\n",
    "\n",
    "fact_trades_context.add_or_update_checkpoint(\n",
    "    name = checkpoint_name_comx,\n",
    "    validations = [\n",
    "        {\n",
    "            \"batch_request\": xxx,\n",
    "            \"expectation_suite_name\": \"xxx\",\n",
    "        },\n",
    "    ],\n",
    ")"
   ]
  },
  {
   "cell_type": "code",
   "execution_count": null,
   "id": "3def69f6-0c2b-4a47-a104-79b7e887b69d",
   "metadata": {
    "scrolled": true
   },
   "outputs": [],
   "source": [
    "# To run validation directly from the data context(2)\n",
    "\n",
    "validation_transactions = fact_trades_context.run_checkpoint(\n",
    "    checkpoint_name = checkpoint_name)\n",
    "\n",
    "#view validation result\n",
    "\n",
    "\n",
    "if validation_transactions[\"success\"]:\n",
    "    print(\"Validation suceeded!\")\n",
    "    sys.exit(1) # !!! GOOGLE THIS !!!\n",
    "print(\"Validation failed!\")"
   ]
  },
  {
   "cell_type": "code",
   "execution_count": null,
   "id": "05d2ee5d",
   "metadata": {},
   "outputs": [],
   "source": [
    "airflow_checkpoint_run_result: CheckpointResult = fact_trades_context.run_checkpoint(\n",
    "    checkpoint_name = checkpoint_transactions,\n",
    "    # batch_request = {\n",
    "        # \"runtime_parameters\": {\n",
    "            # \"batch_data\": my_data_frame,\n",
    "        # },\n",
    "        \"data_connector_query\": {\n",
    "            \"batch_filter_parameters\": {\n",
    "                \"airflow_run_id\": airflow_run_id,\n",
    "            }\n",
    "        },\n",
    "    # },\n",
    "    run_name=airflow_run_id,\n",
    ")"
   ]
  },
  {
   "cell_type": "code",
   "execution_count": null,
   "id": "154899a1-5dc2-430f-bc06-59757087dd53",
   "metadata": {},
   "outputs": [],
   "source": [
    "#to view an HTML representation of the checkpoint Validation results\n",
    "validation_result_transactions = fact_trades_context.view_validation_result(validation_transactions)"
   ]
  },
  {
   "cell_type": "markdown",
   "id": "f43387d9-5827-48d8-bb8b-41bd19428b55",
   "metadata": {},
   "source": [
    "## **Generate Report**"
   ]
  },
  {
   "cell_type": "code",
   "execution_count": null,
   "id": "6b397e25-f91a-4ea2-b2b3-f776cee63c59",
   "metadata": {
    "scrolled": true
   },
   "outputs": [],
   "source": [
    "# To view Data Docs that were autoatically created after the validator was run\n",
    "fact_trades_context.build_data_docs()"
   ]
  },
  {
   "cell_type": "code",
   "execution_count": null,
   "id": "5f2d91d9-28bb-4f1a-a8c3-5e3adb02f8f8",
   "metadata": {},
   "outputs": [],
   "source": [
    "fact_trades_context.open_data_docs()"
   ]
  },
  {
   "cell_type": "code",
   "execution_count": null,
   "id": "60ecd198-2c70-4540-a922-6e8466da6244",
   "metadata": {},
   "outputs": [],
   "source": [
    "# Save the expectation suite\n",
    "# In the interactive workflow, an Expectation Suite will be configured to include Expectations as they are defined, but will not be saved to an Expectation Store until you issue the command for it to be.\n",
    "\n",
    "saved_expectation_suite_fact_trades = fact_trades_context.save_expectation_suite(expectation_suite_fact_trades, discard_failed_expectations=False)"
   ]
  }
 ],
 "metadata": {
  "kernelspec": {
   "display_name": "Python 3 (ipykernel)",
   "language": "python",
   "name": "python3"
  },
  "language_info": {
   "codemirror_mode": {
    "name": "ipython",
    "version": 3
   },
   "file_extension": ".py",
   "mimetype": "text/x-python",
   "name": "python",
   "nbconvert_exporter": "python",
   "pygments_lexer": "ipython3",
   "version": "3.9.13"
  }
 },
 "nbformat": 4,
 "nbformat_minor": 5
}
